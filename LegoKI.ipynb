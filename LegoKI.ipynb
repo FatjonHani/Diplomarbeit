{
  "cells": [
    {
      "cell_type": "code",
      "execution_count": 28,
      "metadata": {
        "id": "YNzlp63gsfRK"
      },
      "outputs": [],
      "source": [
        "import numpy as np\n",
        "import pandas as pd\n",
        "import os\n",
        "from tqdm import tqdm\n",
        "import imageio\n",
        "import numpy as np\n",
        "from keras.preprocessing.image import img_to_array\n",
        "import random\n",
        "import matplotlib.pyplot as plt\n",
        "import tensorflow as tf\n",
        "from tensorflow import keras\n",
        "from keras.utils import to_categorical\n",
        "from keras.preprocessing.image import load_img, img_to_array\n",
        "from keras.layers import Dense,Flatten,Dropout,Conv2D,MaxPooling2D,BatchNormalization\n",
        "from keras.optimizers import Adam\n",
        "\n",
        "import keras\n",
        "from keras.models import Sequential\n",
        "from sklearn.metrics  import classification_report, log_loss, accuracy_score\n",
        "from sklearn.model_selection import train_test_split\n",
        "from tqdm import tqdm\n",
        "import matplotlib.pyplot as plt\n",
        "import numpy\n",
        "from sklearn import metrics\n",
        "\n",
        "from keras.layers import Conv2D, MaxPooling2D, Flatten, Dense, Dropout\n",
        "from keras.models import Sequential\n",
        "from keras.optimizers import Adam, SGD\n",
        "from keras.callbacks import EarlyStopping\n",
        "\n",
        "from keras.layers import Conv2D, MaxPooling2D, Flatten, Dense, Dropout\n",
        "from keras.models import Sequential\n",
        "from keras.optimizers import Adam, SGD\n",
        "from keras.callbacks import EarlyStopping\n",
        "#from keras.preprocessing.image import ImageDataGenerator\n",
        "\n",
        "import seaborn as sns\n",
        "from sklearn.metrics import confusion_matrix\n",
        "\n"
      ]
    },
    {
      "cell_type": "code",
      "execution_count": 29,
      "metadata": {
        "id": "y7S3SZIDvcuA"
      },
      "outputs": [],
      "source": [
        "data_dir = 'C:/Users/fatjo/OneDrive/Desktop/GridMask'"
      ]
    },
    {
      "cell_type": "code",
      "execution_count": 30,
      "metadata": {},
      "outputs": [],
      "source": [
        "batch_size = 10"
      ]
    },
    {
      "cell_type": "code",
      "execution_count": 31,
      "metadata": {
        "colab": {
          "base_uri": "https://localhost:8080/"
        },
        "id": "6wbvpBUAvoY_",
        "outputId": "7081150f-5d0d-4c5e-dac7-3d0f05efb8bf"
      },
      "outputs": [
        {
          "name": "stdout",
          "output_type": "stream",
          "text": [
            "['2x2', '2x3', '2x4', '4x4f']\n",
            "4\n"
          ]
        }
      ],
      "source": [
        "\n",
        "Name=[]\n",
        "for file in os.listdir(data_dir):\n",
        "  Name+=[file]\n",
        "print(Name)\n",
        "print(len(Name))"
      ]
    },
    {
      "cell_type": "code",
      "execution_count": 32,
      "metadata": {
        "id": "1Zd8qzy-v9sk"
      },
      "outputs": [],
      "source": [
        "N=[]\n",
        "for i in range(len(Name)):\n",
        "  N+=[i]\n",
        "\n",
        "normal_mapping=dict(zip(Name,N))\n",
        "reverse_mapping=dict(zip(N,Name))"
      ]
    },
    {
      "cell_type": "code",
      "execution_count": 33,
      "metadata": {
        "colab": {
          "base_uri": "https://localhost:8080/"
        },
        "id": "hH5p3dy_wn8q",
        "outputId": "56ddbdb0-d124-4f12-e60b-68b13a625a1e"
      },
      "outputs": [
        {
          "name": "stderr",
          "output_type": "stream",
          "text": [
            "  0%|          | 0/4 [00:00<?, ?it/s]"
          ]
        },
        {
          "name": "stderr",
          "output_type": "stream",
          "text": [
            "100%|██████████| 4/4 [00:18<00:00,  4.66s/it]\n"
          ]
        }
      ],
      "source": [
        "datax0=[]\n",
        "datay0=[]\n",
        "count=0\n",
        "for file in tqdm(Name):\n",
        "    path=os.path.join(data_dir,file)\n",
        "    for im in os.listdir(path):\n",
        "        image=load_img(os.path.join(path,im), color_mode='rgb', target_size=(150,150))\n",
        "        image=img_to_array(image)\n",
        "        image=image/255.0\n",
        "        datax0.append(image)\n",
        "        datay0.append(count)\n",
        "    count=count+1"
      ]
    },
    {
      "cell_type": "code",
      "execution_count": 34,
      "metadata": {
        "id": "Ns0aBa96xLgx"
      },
      "outputs": [],
      "source": [
        "n=len(datax0)\n",
        "M=[]\n",
        "for i in range(n):\n",
        "    M+=[i]\n",
        "random.shuffle(M)"
      ]
    },
    {
      "cell_type": "code",
      "execution_count": 35,
      "metadata": {
        "id": "QYCK6_QNxOY0"
      },
      "outputs": [],
      "source": [
        "datax1=np.array(datax0)\n",
        "datay1=np.array(datay0)"
      ]
    },
    {
      "cell_type": "code",
      "execution_count": 36,
      "metadata": {
        "id": "cVSTq8RNxO4i"
      },
      "outputs": [],
      "source": [
        "trainx0=datax1[M[0:(n//4)*3]]\n",
        "testx0=datax1[M[(n//4)*3:]]\n",
        "trainy0=datay1[M[0:(n//4)*3]]\n",
        "testy0=datay1[M[(n//4)*3:]]"
      ]
    },
    {
      "cell_type": "code",
      "execution_count": 37,
      "metadata": {
        "id": "alVcYe82xO-o"
      },
      "outputs": [],
      "source": [
        "trainy2=to_categorical(trainy0)\n",
        "X_train=np.array(trainx0).reshape(-1,150,150,3)\n",
        "y_train=np.array(trainy2)"
      ]
    },
    {
      "cell_type": "code",
      "execution_count": 38,
      "metadata": {
        "id": "IJK3TEOvxPFw"
      },
      "outputs": [],
      "source": [
        "X_test=np.array(testx0).reshape(-1,150,150,3)"
      ]
    },
    {
      "cell_type": "code",
      "execution_count": 39,
      "metadata": {
        "id": "GeQf9uHfxPIG"
      },
      "outputs": [],
      "source": [
        "trainx,testx,trainy,testy=train_test_split(X_train,y_train,test_size=0.2,random_state=42)"
      ]
    },
    {
      "cell_type": "code",
      "execution_count": 40,
      "metadata": {
        "colab": {
          "base_uri": "https://localhost:8080/"
        },
        "id": "M7MV8626xPNV",
        "outputId": "af119a03-9013-41c4-c4ca-fcaae531a06b"
      },
      "outputs": [
        {
          "name": "stdout",
          "output_type": "stream",
          "text": [
            "(960, 150, 150, 3)\n",
            "(240, 150, 150, 3)\n",
            "(960, 4)\n",
            "(240, 4)\n"
          ]
        }
      ],
      "source": [
        "print(trainx.shape)\n",
        "print(testx.shape)\n",
        "print(trainy.shape)\n",
        "print(testy.shape)"
      ]
    },
    {
      "cell_type": "code",
      "execution_count": 41,
      "metadata": {
        "id": "zSYAcbqVxPPw"
      },
      "outputs": [],
      "source": [
        "#model = Sequential()\n",
        "#model.add(Conv2D(64, (3, 3), input_shape=(30,30, 4), activation='relu'))\n",
        "#model.add(MaxPooling2D(pool_size=(2, 2)))  # Add max pooling for regularization\n",
        "#model.add(Conv2D(128, (3, 3), activation='relu'))\n",
        "#model.add(MaxPooling2D(pool_size=(2, 2)))  # Add max pooling for regularization\n",
        "#model.add(Dropout(0.2))  # Regularization to prevent overfitting\n",
        "#model.add(Flatten())\n",
        "#model.add(Dense(128, activation='relu')) #density war 100\n",
        "#model.add(Dense(4, activation='softmax'))"
      ]
    },
    {
      "cell_type": "code",
      "execution_count": 42,
      "metadata": {},
      "outputs": [],
      "source": [
        "model = Sequential()\n",
        "model.add(Conv2D(64, (3, 3), input_shape=(150, 150, 3), activation='relu'))\n",
        "model.add(MaxPooling2D(pool_size=(2, 2)))  # Add max pooling for regularization\n",
        "model.add(Conv2D(128, (3, 3), activation='relu'))\n",
        "model.add(MaxPooling2D(pool_size=(2, 2)))  # Add max pooling for regularization\n",
        "model.add(Dropout(0.2))  # Regularization to prevent overfitting\n",
        "model.add(Flatten())\n",
        "model.add(Dense(128, activation='relu'))  # Density war 300\n",
        "model.add(Dense(4, activation='softmax'))"
      ]
    },
    {
      "cell_type": "code",
      "execution_count": 43,
      "metadata": {
        "id": "iLxTnKUVxPVA"
      },
      "outputs": [],
      "source": [
        "model.compile(loss='categorical_crossentropy', optimizer='adam',metrics=['accuracy'])"
      ]
    },
    {
      "cell_type": "code",
      "execution_count": 44,
      "metadata": {
        "colab": {
          "base_uri": "https://localhost:8080/"
        },
        "id": "AEex3TYAxfJ-",
        "outputId": "e5218c5b-8081-44f9-eac8-00846032d3a3"
      },
      "outputs": [
        {
          "data": {
            "text/html": [
              "<pre style=\"white-space:pre;overflow-x:auto;line-height:normal;font-family:Menlo,'DejaVu Sans Mono',consolas,'Courier New',monospace\"><span style=\"font-weight: bold\">Model: \"sequential_1\"</span>\n",
              "</pre>\n"
            ],
            "text/plain": [
              "\u001b[1mModel: \"sequential_1\"\u001b[0m\n"
            ]
          },
          "metadata": {},
          "output_type": "display_data"
        },
        {
          "data": {
            "text/html": [
              "<pre style=\"white-space:pre;overflow-x:auto;line-height:normal;font-family:Menlo,'DejaVu Sans Mono',consolas,'Courier New',monospace\">┏━━━━━━━━━━━━━━━━━━━━━━━━━━━━━━━━━┳━━━━━━━━━━━━━━━━━━━━━━━━┳━━━━━━━━━━━━━━━┓\n",
              "┃<span style=\"font-weight: bold\"> Layer (type)                    </span>┃<span style=\"font-weight: bold\"> Output Shape           </span>┃<span style=\"font-weight: bold\">       Param # </span>┃\n",
              "┡━━━━━━━━━━━━━━━━━━━━━━━━━━━━━━━━━╇━━━━━━━━━━━━━━━━━━━━━━━━╇━━━━━━━━━━━━━━━┩\n",
              "│ conv2d_2 (<span style=\"color: #0087ff; text-decoration-color: #0087ff\">Conv2D</span>)               │ (<span style=\"color: #00d7ff; text-decoration-color: #00d7ff\">None</span>, <span style=\"color: #00af00; text-decoration-color: #00af00\">148</span>, <span style=\"color: #00af00; text-decoration-color: #00af00\">148</span>, <span style=\"color: #00af00; text-decoration-color: #00af00\">64</span>)   │         <span style=\"color: #00af00; text-decoration-color: #00af00\">1,792</span> │\n",
              "├─────────────────────────────────┼────────────────────────┼───────────────┤\n",
              "│ max_pooling2d_2 (<span style=\"color: #0087ff; text-decoration-color: #0087ff\">MaxPooling2D</span>)  │ (<span style=\"color: #00d7ff; text-decoration-color: #00d7ff\">None</span>, <span style=\"color: #00af00; text-decoration-color: #00af00\">74</span>, <span style=\"color: #00af00; text-decoration-color: #00af00\">74</span>, <span style=\"color: #00af00; text-decoration-color: #00af00\">64</span>)     │             <span style=\"color: #00af00; text-decoration-color: #00af00\">0</span> │\n",
              "├─────────────────────────────────┼────────────────────────┼───────────────┤\n",
              "│ conv2d_3 (<span style=\"color: #0087ff; text-decoration-color: #0087ff\">Conv2D</span>)               │ (<span style=\"color: #00d7ff; text-decoration-color: #00d7ff\">None</span>, <span style=\"color: #00af00; text-decoration-color: #00af00\">72</span>, <span style=\"color: #00af00; text-decoration-color: #00af00\">72</span>, <span style=\"color: #00af00; text-decoration-color: #00af00\">128</span>)    │        <span style=\"color: #00af00; text-decoration-color: #00af00\">73,856</span> │\n",
              "├─────────────────────────────────┼────────────────────────┼───────────────┤\n",
              "│ max_pooling2d_3 (<span style=\"color: #0087ff; text-decoration-color: #0087ff\">MaxPooling2D</span>)  │ (<span style=\"color: #00d7ff; text-decoration-color: #00d7ff\">None</span>, <span style=\"color: #00af00; text-decoration-color: #00af00\">36</span>, <span style=\"color: #00af00; text-decoration-color: #00af00\">36</span>, <span style=\"color: #00af00; text-decoration-color: #00af00\">128</span>)    │             <span style=\"color: #00af00; text-decoration-color: #00af00\">0</span> │\n",
              "├─────────────────────────────────┼────────────────────────┼───────────────┤\n",
              "│ dropout_1 (<span style=\"color: #0087ff; text-decoration-color: #0087ff\">Dropout</span>)             │ (<span style=\"color: #00d7ff; text-decoration-color: #00d7ff\">None</span>, <span style=\"color: #00af00; text-decoration-color: #00af00\">36</span>, <span style=\"color: #00af00; text-decoration-color: #00af00\">36</span>, <span style=\"color: #00af00; text-decoration-color: #00af00\">128</span>)    │             <span style=\"color: #00af00; text-decoration-color: #00af00\">0</span> │\n",
              "├─────────────────────────────────┼────────────────────────┼───────────────┤\n",
              "│ flatten_1 (<span style=\"color: #0087ff; text-decoration-color: #0087ff\">Flatten</span>)             │ (<span style=\"color: #00d7ff; text-decoration-color: #00d7ff\">None</span>, <span style=\"color: #00af00; text-decoration-color: #00af00\">165888</span>)         │             <span style=\"color: #00af00; text-decoration-color: #00af00\">0</span> │\n",
              "├─────────────────────────────────┼────────────────────────┼───────────────┤\n",
              "│ dense_2 (<span style=\"color: #0087ff; text-decoration-color: #0087ff\">Dense</span>)                 │ (<span style=\"color: #00d7ff; text-decoration-color: #00d7ff\">None</span>, <span style=\"color: #00af00; text-decoration-color: #00af00\">128</span>)            │    <span style=\"color: #00af00; text-decoration-color: #00af00\">21,233,792</span> │\n",
              "├─────────────────────────────────┼────────────────────────┼───────────────┤\n",
              "│ dense_3 (<span style=\"color: #0087ff; text-decoration-color: #0087ff\">Dense</span>)                 │ (<span style=\"color: #00d7ff; text-decoration-color: #00d7ff\">None</span>, <span style=\"color: #00af00; text-decoration-color: #00af00\">4</span>)              │           <span style=\"color: #00af00; text-decoration-color: #00af00\">516</span> │\n",
              "└─────────────────────────────────┴────────────────────────┴───────────────┘\n",
              "</pre>\n"
            ],
            "text/plain": [
              "┏━━━━━━━━━━━━━━━━━━━━━━━━━━━━━━━━━┳━━━━━━━━━━━━━━━━━━━━━━━━┳━━━━━━━━━━━━━━━┓\n",
              "┃\u001b[1m \u001b[0m\u001b[1mLayer (type)                   \u001b[0m\u001b[1m \u001b[0m┃\u001b[1m \u001b[0m\u001b[1mOutput Shape          \u001b[0m\u001b[1m \u001b[0m┃\u001b[1m \u001b[0m\u001b[1m      Param #\u001b[0m\u001b[1m \u001b[0m┃\n",
              "┡━━━━━━━━━━━━━━━━━━━━━━━━━━━━━━━━━╇━━━━━━━━━━━━━━━━━━━━━━━━╇━━━━━━━━━━━━━━━┩\n",
              "│ conv2d_2 (\u001b[38;5;33mConv2D\u001b[0m)               │ (\u001b[38;5;45mNone\u001b[0m, \u001b[38;5;34m148\u001b[0m, \u001b[38;5;34m148\u001b[0m, \u001b[38;5;34m64\u001b[0m)   │         \u001b[38;5;34m1,792\u001b[0m │\n",
              "├─────────────────────────────────┼────────────────────────┼───────────────┤\n",
              "│ max_pooling2d_2 (\u001b[38;5;33mMaxPooling2D\u001b[0m)  │ (\u001b[38;5;45mNone\u001b[0m, \u001b[38;5;34m74\u001b[0m, \u001b[38;5;34m74\u001b[0m, \u001b[38;5;34m64\u001b[0m)     │             \u001b[38;5;34m0\u001b[0m │\n",
              "├─────────────────────────────────┼────────────────────────┼───────────────┤\n",
              "│ conv2d_3 (\u001b[38;5;33mConv2D\u001b[0m)               │ (\u001b[38;5;45mNone\u001b[0m, \u001b[38;5;34m72\u001b[0m, \u001b[38;5;34m72\u001b[0m, \u001b[38;5;34m128\u001b[0m)    │        \u001b[38;5;34m73,856\u001b[0m │\n",
              "├─────────────────────────────────┼────────────────────────┼───────────────┤\n",
              "│ max_pooling2d_3 (\u001b[38;5;33mMaxPooling2D\u001b[0m)  │ (\u001b[38;5;45mNone\u001b[0m, \u001b[38;5;34m36\u001b[0m, \u001b[38;5;34m36\u001b[0m, \u001b[38;5;34m128\u001b[0m)    │             \u001b[38;5;34m0\u001b[0m │\n",
              "├─────────────────────────────────┼────────────────────────┼───────────────┤\n",
              "│ dropout_1 (\u001b[38;5;33mDropout\u001b[0m)             │ (\u001b[38;5;45mNone\u001b[0m, \u001b[38;5;34m36\u001b[0m, \u001b[38;5;34m36\u001b[0m, \u001b[38;5;34m128\u001b[0m)    │             \u001b[38;5;34m0\u001b[0m │\n",
              "├─────────────────────────────────┼────────────────────────┼───────────────┤\n",
              "│ flatten_1 (\u001b[38;5;33mFlatten\u001b[0m)             │ (\u001b[38;5;45mNone\u001b[0m, \u001b[38;5;34m165888\u001b[0m)         │             \u001b[38;5;34m0\u001b[0m │\n",
              "├─────────────────────────────────┼────────────────────────┼───────────────┤\n",
              "│ dense_2 (\u001b[38;5;33mDense\u001b[0m)                 │ (\u001b[38;5;45mNone\u001b[0m, \u001b[38;5;34m128\u001b[0m)            │    \u001b[38;5;34m21,233,792\u001b[0m │\n",
              "├─────────────────────────────────┼────────────────────────┼───────────────┤\n",
              "│ dense_3 (\u001b[38;5;33mDense\u001b[0m)                 │ (\u001b[38;5;45mNone\u001b[0m, \u001b[38;5;34m4\u001b[0m)              │           \u001b[38;5;34m516\u001b[0m │\n",
              "└─────────────────────────────────┴────────────────────────┴───────────────┘\n"
            ]
          },
          "metadata": {},
          "output_type": "display_data"
        },
        {
          "data": {
            "text/html": [
              "<pre style=\"white-space:pre;overflow-x:auto;line-height:normal;font-family:Menlo,'DejaVu Sans Mono',consolas,'Courier New',monospace\"><span style=\"font-weight: bold\"> Total params: </span><span style=\"color: #00af00; text-decoration-color: #00af00\">21,309,956</span> (81.29 MB)\n",
              "</pre>\n"
            ],
            "text/plain": [
              "\u001b[1m Total params: \u001b[0m\u001b[38;5;34m21,309,956\u001b[0m (81.29 MB)\n"
            ]
          },
          "metadata": {},
          "output_type": "display_data"
        },
        {
          "data": {
            "text/html": [
              "<pre style=\"white-space:pre;overflow-x:auto;line-height:normal;font-family:Menlo,'DejaVu Sans Mono',consolas,'Courier New',monospace\"><span style=\"font-weight: bold\"> Trainable params: </span><span style=\"color: #00af00; text-decoration-color: #00af00\">21,309,956</span> (81.29 MB)\n",
              "</pre>\n"
            ],
            "text/plain": [
              "\u001b[1m Trainable params: \u001b[0m\u001b[38;5;34m21,309,956\u001b[0m (81.29 MB)\n"
            ]
          },
          "metadata": {},
          "output_type": "display_data"
        },
        {
          "data": {
            "text/html": [
              "<pre style=\"white-space:pre;overflow-x:auto;line-height:normal;font-family:Menlo,'DejaVu Sans Mono',consolas,'Courier New',monospace\"><span style=\"font-weight: bold\"> Non-trainable params: </span><span style=\"color: #00af00; text-decoration-color: #00af00\">0</span> (0.00 B)\n",
              "</pre>\n"
            ],
            "text/plain": [
              "\u001b[1m Non-trainable params: \u001b[0m\u001b[38;5;34m0\u001b[0m (0.00 B)\n"
            ]
          },
          "metadata": {},
          "output_type": "display_data"
        }
      ],
      "source": [
        "model.summary()\n"
      ]
    },
    {
      "cell_type": "code",
      "execution_count": 45,
      "metadata": {
        "colab": {
          "base_uri": "https://localhost:8080/"
        },
        "id": "BUNy7nt5xfSB",
        "outputId": "96dedb53-50d5-4f53-a7a6-ca641768681c"
      },
      "outputs": [
        {
          "name": "stdout",
          "output_type": "stream",
          "text": [
            "Epoch 1/20\n"
          ]
        },
        {
          "name": "stdout",
          "output_type": "stream",
          "text": [
            "960/960 - 219s - 228ms/step - accuracy: 0.2250 - loss: 1.4709 - val_accuracy: 0.2083 - val_loss: 1.3845\n",
            "Epoch 2/20\n",
            "960/960 - 209s - 218ms/step - accuracy: 0.3677 - loss: 1.3229 - val_accuracy: 0.5250 - val_loss: 1.0813\n",
            "Epoch 3/20\n",
            "960/960 - 202s - 211ms/step - accuracy: 0.6500 - loss: 0.8477 - val_accuracy: 0.6958 - val_loss: 0.7343\n",
            "Epoch 4/20\n",
            "960/960 - 203s - 212ms/step - accuracy: 0.8323 - loss: 0.4628 - val_accuracy: 0.8083 - val_loss: 0.6383\n",
            "Epoch 5/20\n",
            "960/960 - 191s - 199ms/step - accuracy: 0.9187 - loss: 0.2060 - val_accuracy: 0.8042 - val_loss: 0.7635\n",
            "Epoch 6/20\n",
            "960/960 - 198s - 206ms/step - accuracy: 0.9708 - loss: 0.0952 - val_accuracy: 0.8208 - val_loss: 0.7710\n",
            "Epoch 7/20\n",
            "960/960 - 205s - 213ms/step - accuracy: 0.9729 - loss: 0.0982 - val_accuracy: 0.7625 - val_loss: 1.2647\n",
            "Epoch 8/20\n",
            "960/960 - 209s - 218ms/step - accuracy: 0.9802 - loss: 0.0656 - val_accuracy: 0.8375 - val_loss: 0.9216\n",
            "Epoch 9/20\n",
            "960/960 - 230s - 239ms/step - accuracy: 0.9865 - loss: 0.0317 - val_accuracy: 0.8083 - val_loss: 1.3825\n",
            "Epoch 10/20\n",
            "960/960 - 239s - 249ms/step - accuracy: 0.9740 - loss: 0.0817 - val_accuracy: 0.8083 - val_loss: 1.5580\n",
            "Epoch 11/20\n",
            "960/960 - 237s - 247ms/step - accuracy: 0.9927 - loss: 0.0183 - val_accuracy: 0.8125 - val_loss: 1.7209\n",
            "Epoch 12/20\n",
            "960/960 - 228s - 237ms/step - accuracy: 0.9969 - loss: 0.0066 - val_accuracy: 0.8208 - val_loss: 1.6207\n",
            "Epoch 13/20\n",
            "960/960 - 229s - 238ms/step - accuracy: 0.9833 - loss: 0.0990 - val_accuracy: 0.7292 - val_loss: 1.9523\n",
            "Epoch 14/20\n",
            "960/960 - 681s - 710ms/step - accuracy: 0.9812 - loss: 0.0517 - val_accuracy: 0.8083 - val_loss: 1.7297\n",
            "Epoch 15/20\n",
            "960/960 - 203s - 212ms/step - accuracy: 0.9896 - loss: 0.0296 - val_accuracy: 0.7833 - val_loss: 1.9122\n",
            "Epoch 16/20\n",
            "960/960 - 206s - 214ms/step - accuracy: 0.9906 - loss: 0.0381 - val_accuracy: 0.7875 - val_loss: 2.0299\n",
            "Epoch 17/20\n",
            "960/960 - 203s - 212ms/step - accuracy: 0.9979 - loss: 0.0051 - val_accuracy: 0.7958 - val_loss: 1.8413\n",
            "Epoch 18/20\n",
            "960/960 - 205s - 213ms/step - accuracy: 0.9948 - loss: 0.0229 - val_accuracy: 0.7917 - val_loss: 1.9609\n",
            "Epoch 19/20\n",
            "960/960 - 203s - 212ms/step - accuracy: 1.0000 - loss: 9.9990e-04 - val_accuracy: 0.7958 - val_loss: 1.9303\n",
            "Epoch 20/20\n",
            "960/960 - 204s - 212ms/step - accuracy: 0.9958 - loss: 0.0242 - val_accuracy: 0.8000 - val_loss: 2.2505\n"
          ]
        }
      ],
      "source": [
        "his = model.fit(X_train, y_train, validation_split=0.2, epochs = 20, batch_size=1, verbose=2)"
      ]
    },
    {
      "cell_type": "code",
      "execution_count": 46,
      "metadata": {},
      "outputs": [],
      "source": [
        "#early_stopping = EarlyStopping(monitor='val_loss', patience=5)\n"
      ]
    },
    {
      "cell_type": "code",
      "execution_count": 47,
      "metadata": {},
      "outputs": [],
      "source": [
        "#his = model.fit(X_train, y_train, validation_split=0.2, epochs=50, batch_size=1, verbose=2, callbacks=[early_stopping])\n"
      ]
    },
    {
      "cell_type": "code",
      "execution_count": 48,
      "metadata": {
        "colab": {
          "base_uri": "https://localhost:8080/"
        },
        "id": "R_1Efl01xfUe",
        "outputId": "0777ba7d-7863-42b0-e8f1-101f3e5e2580"
      },
      "outputs": [
        {
          "name": "stdout",
          "output_type": "stream",
          "text": [
            "\u001b[1m8/8\u001b[0m \u001b[32m━━━━━━━━━━━━━━━━━━━━\u001b[0m\u001b[37m\u001b[0m \u001b[1m1s\u001b[0m 131ms/step\n",
            "              precision    recall  f1-score   support\n",
            "\n",
            "           0       0.98      1.00      0.99        65\n",
            "           1       0.93      0.96      0.94        52\n",
            "           2       0.98      0.94      0.96        67\n",
            "           3       0.98      0.98      0.98        56\n",
            "\n",
            "    accuracy                           0.97       240\n",
            "   macro avg       0.97      0.97      0.97       240\n",
            "weighted avg       0.97      0.97      0.97       240\n",
            "\n"
          ]
        }
      ],
      "source": [
        "y_pred=model.predict(testx)\n",
        "pred=np.argmax(y_pred,axis=1)\n",
        "ground = np.argmax(testy,axis=1)\n",
        "print(classification_report(ground,pred))"
      ]
    },
    {
      "cell_type": "code",
      "execution_count": 49,
      "metadata": {
        "colab": {
          "base_uri": "https://localhost:8080/",
          "height": 469
        },
        "id": "YukdavvtxfXH",
        "outputId": "98ba5d20-76d3-4b1c-9f91-91045517936a"
      },
      "outputs": [
        {
          "data": {
            "image/png": "[encoded data removed]",
            "text/plain": [
              "<Figure size 640x480 with 1 Axes>"
            ]
          },
          "metadata": {},
          "output_type": "display_data"
        },
        {
          "data": {
            "text/plain": [
              "<Figure size 640x480 with 0 Axes>"
            ]
          },
          "metadata": {},
          "output_type": "display_data"
        }
      ],
      "source": [
        "get_acc = his.history['accuracy']\n",
        "value_acc = his.history['val_accuracy']\n",
        "get_loss = his.history['loss']\n",
        "validation_loss = his.history['val_loss']\n",
        "\n",
        "epochs = range(len(get_acc))\n",
        "plt.plot(epochs, get_acc, 'r', label='Accuracy of Training data')\n",
        "plt.plot(epochs, value_acc, 'b', label='Accuracy of Validation data')\n",
        "plt.title('Training vs validation accuracy')\n",
        "plt.legend(loc=0)\n",
        "plt.figure()\n",
        "plt.show()"
      ]
    },
    {
      "cell_type": "code",
      "execution_count": 50,
      "metadata": {
        "colab": {
          "base_uri": "https://localhost:8080/",
          "height": 469
        },
        "id": "6ejBc2_KxniQ",
        "outputId": "8fdcadd5-43ee-45c7-d0a5-3856024b9cbf"
      },
      "outputs": [
        {
          "data": {
            "image/png": "[encoded data removed]",
            "text/plain": [
              "<Figure size 640x480 with 1 Axes>"
            ]
          },
          "metadata": {},
          "output_type": "display_data"
        },
        {
          "data": {
            "text/plain": [
              "<Figure size 640x480 with 0 Axes>"
            ]
          },
          "metadata": {},
          "output_type": "display_data"
        }
      ],
      "source": [
        "epochs = range(len(get_loss))\n",
        "plt.plot(epochs, get_loss, 'r', label='Loss of Training data')\n",
        "plt.plot(epochs, validation_loss, 'b', label='Loss of Validation data')\n",
        "plt.title('Training vs validation loss')\n",
        "plt.legend(loc=0)\n",
        "plt.figure()\n",
        "plt.show()"
      ]
    },
    {
      "cell_type": "code",
      "execution_count": 51,
      "metadata": {
        "colab": {
          "base_uri": "https://localhost:8080/"
        },
        "id": "hNQc5xb1xnmi",
        "outputId": "7a7d9f10-a013-4340-a6d7-6a2a66f93340"
      },
      "outputs": [
        {
          "name": "stdout",
          "output_type": "stream",
          "text": [
            "\u001b[1m13/13\u001b[0m \u001b[32m━━━━━━━━━━━━━━━━━━━━\u001b[0m\u001b[37m\u001b[0m \u001b[1m2s\u001b[0m 124ms/step\n",
            "[[4.0055075e-27 3.7553741e-13 3.0058130e-22 1.0000000e+00]\n",
            " [5.9850759e-14 1.8114513e-10 1.0000000e+00 2.4752563e-18]\n",
            " [1.2159434e-07 9.9999857e-01 1.2502807e-06 1.5858098e-10]\n",
            " [9.9983811e-01 1.6166936e-04 8.4879623e-08 3.8783863e-08]\n",
            " [2.1593083e-13 1.9280521e-06 5.8566867e-11 9.9999809e-01]\n",
            " [3.7464806e-11 1.2209746e-06 9.9999869e-01 7.2367357e-08]\n",
            " [3.1534385e-16 6.1657788e-06 2.8948392e-05 9.9996483e-01]\n",
            " [4.2632204e-03 3.2239270e-03 1.1065120e-03 9.9140632e-01]\n",
            " [2.7755127e-09 9.9563438e-01 1.7063266e-10 4.3656155e-03]\n",
            " [1.8161562e-14 2.2579258e-09 1.3474163e-12 1.0000000e+00]]\n",
            "[3, 2, 1, 0, 3, 2, 3, 3, 1, 3]\n"
          ]
        }
      ],
      "source": [
        "pred2=model.predict(X_test)\n",
        "print(pred2[0:10])\n",
        "\n",
        "PRED=[]\n",
        "for item in pred2:\n",
        "    value2=np.argmax(item)\n",
        "    PRED+=[value2]\n",
        "print(PRED[0:10])"
      ]
    },
    {
      "cell_type": "code",
      "execution_count": 52,
      "metadata": {
        "colab": {
          "base_uri": "https://localhost:8080/"
        },
        "id": "Qo_DTNk4xnpH",
        "outputId": "ce7e9d92-973b-4346-ad83-5c3e32950653"
      },
      "outputs": [
        {
          "data": {
            "text/plain": [
              "[3, 2, 1, 1, 3, 2, 2, 3, 2, 3]"
            ]
          },
          "execution_count": 52,
          "metadata": {},
          "output_type": "execute_result"
        }
      ],
      "source": [
        "ANS=list(testy0)\n",
        "ANS[0:10]"
      ]
    },
    {
      "cell_type": "code",
      "execution_count": 53,
      "metadata": {
        "colab": {
          "base_uri": "https://localhost:8080/"
        },
        "id": "thWpzZ51xnr5",
        "outputId": "5fd9f808-b973-4bb5-cc8b-c7754aefbfe4"
      },
      "outputs": [
        {
          "name": "stdout",
          "output_type": "stream",
          "text": [
            "0.7825\n"
          ]
        }
      ],
      "source": [
        "accuracy=accuracy_score(ANS,PRED)\n",
        "print(accuracy)"
      ]
    },
    {
      "cell_type": "code",
      "execution_count": 54,
      "metadata": {},
      "outputs": [],
      "source": [
        "cm = confusion_matrix(ANS, PRED)"
      ]
    },
    {
      "cell_type": "code",
      "execution_count": 55,
      "metadata": {},
      "outputs": [
        {
          "data": {
            "image/png": "[encoded data removed]",
            "text/plain": [
              "<Figure size 1000x700 with 2 Axes>"
            ]
          },
          "metadata": {},
          "output_type": "display_data"
        }
      ],
      "source": [
        "plt.figure(figsize=(10,7))\n",
        "sns.heatmap(cm, annot=True, fmt=\".3f\", linewidths=.5, square=True, cmap='Blues')\n",
        "plt.ylabel('Actual label')\n",
        "plt.xlabel('Predicted label')\n",
        "plt.title('Confusion matrix')\n",
        "plt.show()"
      ]
    }
  ],
  "metadata": {
    "colab": {
      "provenance": []
    },
    "kernelspec": {
      "display_name": "Python 3",
      "name": "python3"
    },
    "language_info": {
      "codemirror_mode": {
        "name": "ipython",
        "version": 3
      },
      "file_extension": ".py",
      "mimetype": "text/x-python",
      "name": "python",
      "nbconvert_exporter": "python",
      "pygments_lexer": "ipython3",
      "version": "3.11.0"
    }
  },
  "nbformat": 4,
  "nbformat_minor": 0
}
